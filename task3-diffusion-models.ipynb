{
 "cells": [
  {
   "cell_type": "markdown",
   "id": "366aa9c0",
   "metadata": {
    "papermill": {
     "duration": 0.046308,
     "end_time": "2022-04-18T16:28:21.668896",
     "exception": false,
     "start_time": "2022-04-18T16:28:21.622588",
     "status": "completed"
    },
    "tags": []
   },
   "source": [
    "# DeepFalcon Task 3: diffusion models for fast detector simulation\n",
    "\n"
   ]
  },
  {
   "cell_type": "markdown",
   "id": "25e815f3",
   "metadata": {
    "papermill": {
     "duration": 0.042945,
     "end_time": "2022-04-18T16:28:21.757459",
     "exception": false,
     "start_time": "2022-04-18T16:28:21.714514",
     "status": "completed"
    },
    "tags": []
   },
   "source": [
    "I'll start by importing all the libraries I'm going to use and setting random seeds for reproducible results:"
   ]
  },
  {
   "cell_type": "code",
   "execution_count": 1,
   "id": "890f62df",
   "metadata": {
    "execution": {
     "iopub.execute_input": "2022-04-18T16:28:21.852575Z",
     "iopub.status.busy": "2022-04-18T16:28:21.851745Z",
     "iopub.status.idle": "2022-04-18T16:28:23.237169Z",
     "shell.execute_reply": "2022-04-18T16:28:23.236570Z",
     "shell.execute_reply.started": "2022-04-18T01:53:42.347853Z"
    },
    "papermill": {
     "duration": 1.437096,
     "end_time": "2022-04-18T16:28:23.237310",
     "exception": false,
     "start_time": "2022-04-18T16:28:21.800214",
     "status": "completed"
    },
    "tags": []
   },
   "outputs": [
    {
     "data": {
      "text/plain": [
       "<torch._C.Generator at 0x7f58a0167410>"
      ]
     },
     "execution_count": 1,
     "metadata": {},
     "output_type": "execute_result"
    }
   ],
   "source": [
    "import pyarrow.parquet as pq\n",
    "import numpy as np\n",
    "import os\n",
    "import matplotlib.pyplot as plt\n",
    "import torch\n",
    "import torch.nn as nn\n",
    "from torch.nn import functional as F\n",
    "from torchvision import transforms\n",
    "from torch.utils.data import Dataset, DataLoader\n",
    "from torch.utils.data import Subset\n",
    "import torch.optim as optim\n",
    "import math\n",
    "\n",
    "np.random.seed(42)\n",
    "torch.manual_seed(42)"
   ]
  },
  {
   "cell_type": "markdown",
   "id": "86860310",
   "metadata": {
    "papermill": {
     "duration": 0.04347,
     "end_time": "2022-04-18T16:28:23.356203",
     "exception": false,
     "start_time": "2022-04-18T16:28:23.312733",
     "status": "completed"
    },
    "tags": []
   },
   "source": [
    "And defining some environment variables such as the path to the dataset:"
   ]
  },
  {
   "cell_type": "code",
   "execution_count": 2,
   "id": "38aca577",
   "metadata": {
    "execution": {
     "iopub.execute_input": "2022-04-18T16:28:23.504381Z",
     "iopub.status.busy": "2022-04-18T16:28:23.503480Z",
     "iopub.status.idle": "2022-04-18T16:28:23.507085Z",
     "shell.execute_reply": "2022-04-18T16:28:23.506392Z",
     "shell.execute_reply.started": "2022-04-18T01:53:42.442565Z"
    },
    "papermill": {
     "duration": 0.107224,
     "end_time": "2022-04-18T16:28:23.507202",
     "exception": false,
     "start_time": "2022-04-18T16:28:23.399978",
     "status": "completed"
    },
    "tags": []
   },
   "outputs": [],
   "source": [
    "JETS_DIR = '../input/gsoc-2022-eval/Boosted_Jets_Samples'\n",
    "DEVICE = torch.device(\"cuda:0\" if torch.cuda.is_available() else \"cpu\")\n",
    "BATCH_SIZE = 32\n",
    "NUM_WORKERS = 2"
   ]
  },
  {
   "cell_type": "markdown",
   "id": "86cbfe40",
   "metadata": {
    "papermill": {
     "duration": 0.074191,
     "end_time": "2022-04-18T16:28:23.639975",
     "exception": false,
     "start_time": "2022-04-18T16:28:23.565784",
     "status": "completed"
    },
    "tags": []
   },
   "source": [
    "# The data"
   ]
  },
  {
   "cell_type": "markdown",
   "id": "36ca5be1",
   "metadata": {
    "papermill": {
     "duration": 0.043451,
     "end_time": "2022-04-18T16:28:23.731425",
     "exception": false,
     "start_time": "2022-04-18T16:28:23.687974",
     "status": "completed"
    },
    "tags": []
   },
   "source": [
    "## Exploring the data"
   ]
  },
  {
   "cell_type": "markdown",
   "id": "188f153e",
   "metadata": {
    "papermill": {
     "duration": 0.044113,
     "end_time": "2022-04-18T16:28:23.819175",
     "exception": false,
     "start_time": "2022-04-18T16:28:23.775062",
     "status": "completed"
    },
    "tags": []
   },
   "source": [
    "We can initially check out some of the data that we have available, loading one of the parquet datasets:"
   ]
  },
  {
   "cell_type": "code",
   "execution_count": 3,
   "id": "a5359811",
   "metadata": {
    "execution": {
     "iopub.execute_input": "2022-04-18T16:28:23.914536Z",
     "iopub.status.busy": "2022-04-18T16:28:23.913898Z",
     "iopub.status.idle": "2022-04-18T16:28:24.046887Z",
     "shell.execute_reply": "2022-04-18T16:28:24.047435Z",
     "shell.execute_reply.started": "2022-04-18T01:53:42.523653Z"
    },
    "papermill": {
     "duration": 0.18472,
     "end_time": "2022-04-18T16:28:24.047583",
     "exception": false,
     "start_time": "2022-04-18T16:28:23.862863",
     "status": "completed"
    },
    "tags": []
   },
   "outputs": [
    {
     "data": {
      "text/plain": [
       "<pyarrow._parquet.FileMetaData object at 0x7f57e3c0d350>\n",
       "  created_by: parquet-cpp version 1.5.1-SNAPSHOT\n",
       "  num_columns: 1\n",
       "  num_rows: 32000\n",
       "  num_row_groups: 32000\n",
       "  format_version: 1.0\n",
       "  serialized_size: 4164717"
      ]
     },
     "execution_count": 3,
     "metadata": {},
     "output_type": "execute_result"
    }
   ],
   "source": [
    "example = pq.ParquetFile(os.path.join(JETS_DIR, 'Boosted_Jets_Sample-0.snappy.parquet'))\n",
    "num_rows = example.num_row_groups\n",
    "example.metadata"
   ]
  },
  {
   "cell_type": "code",
   "execution_count": 4,
   "id": "a9c96670",
   "metadata": {
    "execution": {
     "iopub.execute_input": "2022-04-18T16:28:24.141931Z",
     "iopub.status.busy": "2022-04-18T16:28:24.141236Z",
     "iopub.status.idle": "2022-04-18T16:28:24.144005Z",
     "shell.execute_reply": "2022-04-18T16:28:24.144420Z",
     "shell.execute_reply.started": "2022-04-18T01:53:42.598615Z"
    },
    "papermill": {
     "duration": 0.052565,
     "end_time": "2022-04-18T16:28:24.144548",
     "exception": false,
     "start_time": "2022-04-18T16:28:24.091983",
     "status": "completed"
    },
    "tags": []
   },
   "outputs": [
    {
     "data": {
      "text/plain": [
       "<pyarrow._parquet.ParquetSchema object at 0x7f57e3c210f0>\n",
       "required group field_id=-1 schema {\n",
       "  optional group field_id=-1 X_jets (List) {\n",
       "    repeated group field_id=-1 list {\n",
       "      optional group field_id=-1 item (List) {\n",
       "        repeated group field_id=-1 list {\n",
       "          optional group field_id=-1 item (List) {\n",
       "            repeated group field_id=-1 list {\n",
       "              optional double field_id=-1 item;\n",
       "            }\n",
       "          }\n",
       "        }\n",
       "      }\n",
       "    }\n",
       "  }\n",
       "}"
      ]
     },
     "execution_count": 4,
     "metadata": {},
     "output_type": "execute_result"
    }
   ],
   "source": [
    "example.schema"
   ]
  },
  {
   "cell_type": "markdown",
   "id": "5d316542",
   "metadata": {
    "papermill": {
     "duration": 0.044521,
     "end_time": "2022-04-18T16:28:24.234145",
     "exception": false,
     "start_time": "2022-04-18T16:28:24.189624",
     "status": "completed"
    },
    "tags": []
   },
   "source": [
    "We have only 1 column over here, composed of a list of lists. The task asks us to perform regression though, which would mean we need a target...\n",
    "\n",
    "Let's check the data out a bit better by using the same data loading pipeline designed by [Ali Hariri on last year's GSoC](https://github.com/ML4SCI/DeepFalcon/tree/main/GNN_for_Fast_Detector_Simulation_Ali_Hariri)."
   ]
  },
  {
   "cell_type": "code",
   "execution_count": 5,
   "id": "ea9d7578",
   "metadata": {
    "execution": {
     "iopub.execute_input": "2022-04-18T16:28:24.327852Z",
     "iopub.status.busy": "2022-04-18T16:28:24.327282Z",
     "iopub.status.idle": "2022-04-18T16:28:24.387607Z",
     "shell.execute_reply": "2022-04-18T16:28:24.387119Z",
     "shell.execute_reply.started": "2022-04-18T01:53:42.666322Z"
    },
    "papermill": {
     "duration": 0.108985,
     "end_time": "2022-04-18T16:28:24.387725",
     "exception": false,
     "start_time": "2022-04-18T16:28:24.278740",
     "status": "completed"
    },
    "tags": []
   },
   "outputs": [
    {
     "data": {
      "text/plain": [
       "dict_keys(['X_jets'])"
      ]
     },
     "execution_count": 5,
     "metadata": {},
     "output_type": "execute_result"
    }
   ],
   "source": [
    "example_row = example.read_row_group(0)\n",
    "example_dict = example_row.to_pydict()\n",
    "example_dict.keys()"
   ]
  },
  {
   "cell_type": "markdown",
   "id": "584b2dfd",
   "metadata": {
    "papermill": {
     "duration": 0.045004,
     "end_time": "2022-04-18T16:28:24.478637",
     "exception": false,
     "start_time": "2022-04-18T16:28:24.433633",
     "status": "completed"
    },
    "tags": []
   },
   "source": [
    "Indeed we only have one column. Exploring the dataset we can see that the elements in this one column are 3x125x125 images:"
   ]
  },
  {
   "cell_type": "code",
   "execution_count": 6,
   "id": "b5bd106c",
   "metadata": {
    "execution": {
     "iopub.execute_input": "2022-04-18T16:28:24.577836Z",
     "iopub.status.busy": "2022-04-18T16:28:24.577050Z",
     "iopub.status.idle": "2022-04-18T16:28:24.799219Z",
     "shell.execute_reply": "2022-04-18T16:28:24.799645Z",
     "shell.execute_reply.started": "2022-04-18T01:53:42.841461Z"
    },
    "papermill": {
     "duration": 0.275694,
     "end_time": "2022-04-18T16:28:24.799789",
     "exception": false,
     "start_time": "2022-04-18T16:28:24.524095",
     "status": "completed"
    },
    "tags": []
   },
   "outputs": [
    {
     "name": "stdout",
     "output_type": "stream",
     "text": [
      "(3, 125, 125)\n"
     ]
    },
    {
     "data": {
      "text/plain": [
       "<matplotlib.image.AxesImage at 0x7f57d96db590>"
      ]
     },
     "execution_count": 6,
     "metadata": {},
     "output_type": "execute_result"
    },
    {
     "data": {
      "image/png": "[encoded data removed]",
      "text/plain": [
       "<Figure size 432x288 with 1 Axes>"
      ]
     },
     "metadata": {
      "needs_background": "light"
     },
     "output_type": "display_data"
    }
   ],
   "source": [
    "example_data = np.float32(example_dict['X_jets'][0])\n",
    "print(example_data.shape)\n",
    "plt.imshow(np.where(example_data.transpose(1,2,0), 0, 255))"
   ]
  },
  {
   "cell_type": "markdown",
   "id": "0589df0e",
   "metadata": {
    "papermill": {
     "duration": 0.046008,
     "end_time": "2022-04-18T16:28:24.891714",
     "exception": false,
     "start_time": "2022-04-18T16:28:24.845706",
     "status": "completed"
    },
    "tags": []
   },
   "source": [
    "Visualization is important in this task, so I'm going to be changing black pixels to white pixels just to make it easier for us to see the changes in the data when we plot it."
   ]
  },
  {
   "cell_type": "markdown",
   "id": "1487f5e6",
   "metadata": {
    "papermill": {
     "duration": 0.096611,
     "end_time": "2022-04-18T16:28:25.061163",
     "exception": false,
     "start_time": "2022-04-18T16:28:24.964552",
     "status": "completed"
    },
    "tags": []
   },
   "source": [
    "Based on last year's GSoC code, [Graph Generative Models for Fast Detector Simulations in Particle Physics paper](https://ml4physicalsciences.github.io/2020/files/NeurIPS_ML4PS_2020_138.pdf) and [End-to-End Physics Event Classification with CMS Open Data](https://arxiv.org/abs/1807.11916), we have that each channel of the image represent a different detector stage:\n",
    "\n",
    "0. Tracker: constructed as a 2D histogram of the track reconstructed position at perigee in ECAL or HCAL geometry.\n",
    "1. ECAL: reconstructed hit energies and ECAL crystal coordinates.\n",
    "2. HCAL: reconstructed hit energies versus HCAL tower coordinates."
   ]
  },
  {
   "cell_type": "code",
   "execution_count": 7,
   "id": "0884b758",
   "metadata": {
    "execution": {
     "iopub.execute_input": "2022-04-18T16:28:25.229009Z",
     "iopub.status.busy": "2022-04-18T16:28:25.228156Z",
     "iopub.status.idle": "2022-04-18T16:28:26.025400Z",
     "shell.execute_reply": "2022-04-18T16:28:26.025862Z",
     "shell.execute_reply.started": "2022-04-18T01:53:43.046454Z"
    },
    "papermill": {
     "duration": 0.884096,
     "end_time": "2022-04-18T16:28:26.026009",
     "exception": false,
     "start_time": "2022-04-18T16:28:25.141913",
     "status": "completed"
    },
    "tags": []
   },
   "outputs": [
    {
     "data": {
      "image/png": "[encoded data removed]",
      "text/plain": [
       "<Figure size 432x288 with 2 Axes>"
      ]
     },
     "metadata": {
      "needs_background": "light"
     },
     "output_type": "display_data"
    },
    {
     "data": {
      "image/png": "[encoded data removed]",
      "text/plain": [
       "<Figure size 432x288 with 2 Axes>"
      ]
     },
     "metadata": {
      "needs_background": "light"
     },
     "output_type": "display_data"
    },
    {
     "data": {
      "image/png": "[encoded data removed]",
      "text/plain": [
       "<Figure size 432x288 with 2 Axes>"
      ]
     },
     "metadata": {
      "needs_background": "light"
     },
     "output_type": "display_data"
    }
   ],
   "source": [
    "plt.imshow(example_data[0], cmap='jet')\n",
    "plt.title('Tracker')\n",
    "plt.colorbar()\n",
    "plt.show()\n",
    "\n",
    "plt.imshow(example_data[1], cmap='jet')\n",
    "plt.title('ECAL')\n",
    "plt.colorbar()\n",
    "plt.show()\n",
    "\n",
    "plt.imshow(example_data[2], cmap='jet')\n",
    "plt.title('HCAL')\n",
    "plt.colorbar()\n",
    "plt.show()"
   ]
  },
  {
   "cell_type": "markdown",
   "id": "35586917",
   "metadata": {
    "papermill": {
     "duration": 0.049073,
     "end_time": "2022-04-18T16:28:26.123320",
     "exception": false,
     "start_time": "2022-04-18T16:28:26.074247",
     "status": "completed"
    },
    "tags": []
   },
   "source": [
    "## Dataset and dataloaders"
   ]
  },
  {
   "cell_type": "markdown",
   "id": "8580af67",
   "metadata": {
    "papermill": {
     "duration": 0.049488,
     "end_time": "2022-04-18T16:28:26.220402",
     "exception": false,
     "start_time": "2022-04-18T16:28:26.170914",
     "status": "completed"
    },
    "tags": []
   },
   "source": [
    "It is also helpful to create custom PyTorch dataloaders in order to load the data more efficiently during training, without the need of loading it all at once on memory (which is not computationally feasible with my resources).\n",
    "\n",
    "After trying lots of different methods with PyArrow and Dask to read partitioned parquet files efficiently, I wasn't able to come up with a clean way of doing so. Thus I made a hacky method that opens the next file if we've reached the end of the current file:"
   ]
  },
  {
   "cell_type": "code",
   "execution_count": 8,
   "id": "4b02cd30",
   "metadata": {
    "execution": {
     "iopub.execute_input": "2022-04-18T16:28:26.327267Z",
     "iopub.status.busy": "2022-04-18T16:28:26.326388Z",
     "iopub.status.idle": "2022-04-18T16:28:26.328259Z",
     "shell.execute_reply": "2022-04-18T16:28:26.328666Z",
     "shell.execute_reply.started": "2022-04-18T01:53:43.75Z"
    },
    "papermill": {
     "duration": 0.060437,
     "end_time": "2022-04-18T16:28:26.328811",
     "exception": false,
     "start_time": "2022-04-18T16:28:26.268374",
     "status": "completed"
    },
    "tags": []
   },
   "outputs": [],
   "source": [
    "class JetDataset(Dataset):\n",
    "    def __init__(self, parquet_files, transform=None, data_col=['X_jets']):\n",
    "        self.parquets = []\n",
    "        \n",
    "        # open each parquet file and count the number of rows\n",
    "        cumrows = 0\n",
    "        for f in parquet_files:\n",
    "            parquet = pq.ParquetFile(f)\n",
    "            rows = parquet.num_row_groups\n",
    "            cumrows += rows\n",
    "            self.parquets.append((parquet, rows, cumrows))\n",
    "            \n",
    "        self.transform = transform\n",
    "        self.data_col = data_col\n",
    "        \n",
    "    def __len__(self):\n",
    "        return sum([i[1] for i in self.parquets])\n",
    "    \n",
    "    def __getitem__(self, idx):\n",
    "        # check in which parquet file the `idx` is in and use that file to load data\n",
    "        for parquet, rows, cumrows in self.parquets:\n",
    "            if idx < cumrows:\n",
    "                break\n",
    "            else:\n",
    "                continue\n",
    "                \n",
    "        # read data\n",
    "        idx = idx - (cumrows - rows)\n",
    "        row = parquet.read_row_group(idx, columns=self.data_col).to_pydict()\n",
    "        data = np.float32(row['X_jets'][0])\n",
    "        \n",
    "        # zero suppression\n",
    "        data[data < 1.e-3] = 0.\n",
    "        \n",
    "        # apply transforms to the data (we're already turning the data to a PyTorch tensor)\n",
    "        if self.transform:\n",
    "            data = self.transform(torch.from_numpy(data))\n",
    "            \n",
    "        return data"
   ]
  },
  {
   "cell_type": "markdown",
   "id": "cd994870",
   "metadata": {
    "papermill": {
     "duration": 0.047749,
     "end_time": "2022-04-18T16:28:26.424858",
     "exception": false,
     "start_time": "2022-04-18T16:28:26.377109",
     "status": "completed"
    },
    "tags": []
   },
   "source": [
    "## Splitting train/val/test"
   ]
  },
  {
   "cell_type": "markdown",
   "id": "15c11285",
   "metadata": {
    "papermill": {
     "duration": 0.048101,
     "end_time": "2022-04-18T16:28:26.520787",
     "exception": false,
     "start_time": "2022-04-18T16:28:26.472686",
     "status": "completed"
    },
    "tags": []
   },
   "source": [
    "We have a HUGE dataset and, as can be seen in my answer to the common task 1 (jet Pt regression), using the whole dataset takes a long time to train. While using Kaggle I gotta be wary of the training time due to notebook runtime restritions, which means that, if I were to use the entire dataset, I'd need to train for fewer epochs. This causes the model to have a subpar performance.\n",
    "\n",
    "As such, in this task I'm going to be using just a part of the dataset. While the model will have less data to be trained on, at least we'll be able to train it for longer!"
   ]
  },
  {
   "cell_type": "markdown",
   "id": "ab90ab77",
   "metadata": {
    "papermill": {
     "duration": 0.048844,
     "end_time": "2022-04-18T16:28:26.618310",
     "exception": false,
     "start_time": "2022-04-18T16:28:26.569466",
     "status": "completed"
    },
    "tags": []
   },
   "source": [
    "I'm only going to be using data augmentation in the dataset, since I believe more information regarding the origins of the data would be needed to apply other pre-processing or data augmentation techniques. Due to memory constraints I'll be downsizing the images."
   ]
  },
  {
   "cell_type": "code",
   "execution_count": 9,
   "id": "2b14227a",
   "metadata": {
    "execution": {
     "iopub.execute_input": "2022-04-18T16:28:26.721123Z",
     "iopub.status.busy": "2022-04-18T16:28:26.720161Z",
     "iopub.status.idle": "2022-04-18T16:28:26.924857Z",
     "shell.execute_reply": "2022-04-18T16:28:26.925334Z",
     "shell.execute_reply.started": "2022-04-18T01:53:43.761661Z"
    },
    "papermill": {
     "duration": 0.259261,
     "end_time": "2022-04-18T16:28:26.925506",
     "exception": false,
     "start_time": "2022-04-18T16:28:26.666245",
     "status": "completed"
    },
    "tags": []
   },
   "outputs": [],
   "source": [
    "parquet_files = [os.path.join(JETS_DIR, 'Boosted_Jets_Sample-0.snappy.parquet')]\n",
    "\n",
    "aug = transforms.Compose([transforms.Resize(64),\n",
    "                          transforms.RandomHorizontalFlip(),\n",
    "                          transforms.RandomVerticalFlip()])\n",
    "\n",
    "train_dataset = JetDataset(parquet_files, aug)\n",
    "val_dataset = JetDataset(parquet_files)\n",
    "test_dataset = JetDataset(parquet_files)"
   ]
  },
  {
   "cell_type": "code",
   "execution_count": 10,
   "id": "35a7e8d4",
   "metadata": {
    "execution": {
     "iopub.execute_input": "2022-04-18T16:28:27.027807Z",
     "iopub.status.busy": "2022-04-18T16:28:27.027145Z",
     "iopub.status.idle": "2022-04-18T16:28:27.029740Z",
     "shell.execute_reply": "2022-04-18T16:28:27.030136Z",
     "shell.execute_reply.started": "2022-04-18T01:53:43.954164Z"
    },
    "papermill": {
     "duration": 0.056437,
     "end_time": "2022-04-18T16:28:27.030262",
     "exception": false,
     "start_time": "2022-04-18T16:28:26.973825",
     "status": "completed"
    },
    "tags": []
   },
   "outputs": [
    {
     "data": {
      "text/plain": [
       "32000"
      ]
     },
     "execution_count": 10,
     "metadata": {},
     "output_type": "execute_result"
    }
   ],
   "source": [
    "len(train_dataset) # == len(val_dataset) == len(test_dataset)"
   ]
  },
  {
   "cell_type": "markdown",
   "id": "94b1405c",
   "metadata": {
    "papermill": {
     "duration": 0.048765,
     "end_time": "2022-04-18T16:28:27.127414",
     "exception": false,
     "start_time": "2022-04-18T16:28:27.078649",
     "status": "completed"
    },
    "tags": []
   },
   "source": [
    "We went from 160000 images to 32000... quite the difference!"
   ]
  },
  {
   "cell_type": "markdown",
   "id": "887a3677",
   "metadata": {
    "papermill": {
     "duration": 0.049214,
     "end_time": "2022-04-18T16:28:27.224939",
     "exception": false,
     "start_time": "2022-04-18T16:28:27.175725",
     "status": "completed"
    },
    "tags": []
   },
   "source": [
    "Since we'lll be using less data on this task, we're going to use a 80/10/10 split:"
   ]
  },
  {
   "cell_type": "code",
   "execution_count": 11,
   "id": "312ba72f",
   "metadata": {
    "execution": {
     "iopub.execute_input": "2022-04-18T16:28:27.332870Z",
     "iopub.status.busy": "2022-04-18T16:28:27.331954Z",
     "iopub.status.idle": "2022-04-18T16:28:27.333790Z",
     "shell.execute_reply": "2022-04-18T16:28:27.334236Z",
     "shell.execute_reply.started": "2022-04-18T01:53:43.963138Z"
    },
    "papermill": {
     "duration": 0.060996,
     "end_time": "2022-04-18T16:28:27.334381",
     "exception": false,
     "start_time": "2022-04-18T16:28:27.273385",
     "status": "completed"
    },
    "tags": []
   },
   "outputs": [],
   "source": [
    "train_size = 0.8\n",
    "\n",
    "num_train = len(train_dataset)\n",
    "indices = list(range(num_train))\n",
    "split = int(np.floor(train_size * num_train))\n",
    "split2 = int(np.floor((train_size+(1-train_size)/2) * num_train))\n",
    "np.random.shuffle(indices)\n",
    "train_idx, valid_idx, test_idx = indices[:split], indices[split:split2], indices[split2:]\n",
    "\n",
    "train_data = Subset(train_dataset, indices=train_idx)\n",
    "val_data = Subset(val_dataset, indices=valid_idx)\n",
    "test_data = Subset(test_dataset, indices=test_idx)\n",
    "\n",
    "train_data = Subset(train_dataset, indices=train_idx)\n",
    "val_data = Subset(val_dataset, indices=valid_idx)\n",
    "test_data = Subset(test_dataset, indices=test_idx)"
   ]
  },
  {
   "cell_type": "code",
   "execution_count": 12,
   "id": "b8a30901",
   "metadata": {
    "execution": {
     "iopub.execute_input": "2022-04-18T16:28:27.437030Z",
     "iopub.status.busy": "2022-04-18T16:28:27.436244Z",
     "iopub.status.idle": "2022-04-18T16:28:27.441047Z",
     "shell.execute_reply": "2022-04-18T16:28:27.440469Z",
     "shell.execute_reply.started": "2022-04-18T01:53:43.977888Z"
    },
    "papermill": {
     "duration": 0.058568,
     "end_time": "2022-04-18T16:28:27.441184",
     "exception": false,
     "start_time": "2022-04-18T16:28:27.382616",
     "status": "completed"
    },
    "tags": []
   },
   "outputs": [
    {
     "name": "stdout",
     "output_type": "stream",
     "text": [
      "train dataset size: 25600 percentage of train dataset: 0.8\n",
      "val dataset size: 3200 percentage of val dataset: 0.1\n",
      "test dataset size: 3200 percentage of test dataset: 0.1\n"
     ]
    }
   ],
   "source": [
    "print('train dataset size:', len(train_data), 'percentage of train dataset:', len(train_data) / len(train_dataset))\n",
    "print('val dataset size:', len(val_data), 'percentage of val dataset:', len(val_data) / len(train_dataset))\n",
    "print('test dataset size:', len(test_data), 'percentage of test dataset:', len(test_data) / len(train_dataset))"
   ]
  },
  {
   "cell_type": "markdown",
   "id": "c0825a4d",
   "metadata": {
    "papermill": {
     "duration": 0.049473,
     "end_time": "2022-04-18T16:28:27.540023",
     "exception": false,
     "start_time": "2022-04-18T16:28:27.490550",
     "status": "completed"
    },
    "tags": []
   },
   "source": [
    "We can now create the dataloaders that will be used for training, validation and testing:"
   ]
  },
  {
   "cell_type": "code",
   "execution_count": 13,
   "id": "8c9df3e4",
   "metadata": {
    "execution": {
     "iopub.execute_input": "2022-04-18T16:28:27.644246Z",
     "iopub.status.busy": "2022-04-18T16:28:27.643460Z",
     "iopub.status.idle": "2022-04-18T16:28:27.645154Z",
     "shell.execute_reply": "2022-04-18T16:28:27.645625Z",
     "shell.execute_reply.started": "2022-04-18T01:53:43.992321Z"
    },
    "papermill": {
     "duration": 0.056471,
     "end_time": "2022-04-18T16:28:27.645753",
     "exception": false,
     "start_time": "2022-04-18T16:28:27.589282",
     "status": "completed"
    },
    "tags": []
   },
   "outputs": [],
   "source": [
    "train_dataloader = DataLoader(train_data, shuffle=True, batch_size=BATCH_SIZE, num_workers=NUM_WORKERS)\n",
    "val_dataloader = DataLoader(val_data, shuffle=True, batch_size=BATCH_SIZE, num_workers=NUM_WORKERS)\n",
    "test_dataloader = DataLoader(test_data, shuffle=False, batch_size=BATCH_SIZE, num_workers=NUM_WORKERS)"
   ]
  },
  {
   "cell_type": "markdown",
   "id": "d560d489",
   "metadata": {
    "papermill": {
     "duration": 0.04879,
     "end_time": "2022-04-18T16:28:27.743316",
     "exception": false,
     "start_time": "2022-04-18T16:28:27.694526",
     "status": "completed"
    },
    "tags": []
   },
   "source": [
    "# Scaling the data"
   ]
  },
  {
   "cell_type": "markdown",
   "id": "beaa1860",
   "metadata": {
    "papermill": {
     "duration": 0.048968,
     "end_time": "2022-04-18T16:28:27.840915",
     "exception": false,
     "start_time": "2022-04-18T16:28:27.791947",
     "status": "completed"
    },
    "tags": []
   },
   "source": [
    "From what I've gathered, it is not necessary to rescale the data for diffusion models, but I'm going to do it so that we can compare these results with the ones we got from the VAE on task 2. Since each channel in our data is from a different detector, I'm going to be considering the minimum and maximum values of each channel (tracker, ECAL, HCAL) separately."
   ]
  },
  {
   "cell_type": "code",
   "execution_count": 14,
   "id": "066d1224",
   "metadata": {
    "execution": {
     "iopub.execute_input": "2022-04-18T16:28:27.946413Z",
     "iopub.status.busy": "2022-04-18T16:28:27.945794Z",
     "iopub.status.idle": "2022-04-18T16:28:27.948473Z",
     "shell.execute_reply": "2022-04-18T16:28:27.948875Z",
     "shell.execute_reply.started": "2022-04-18T01:53:44.018464Z"
    },
    "papermill": {
     "duration": 0.059302,
     "end_time": "2022-04-18T16:28:27.949003",
     "exception": false,
     "start_time": "2022-04-18T16:28:27.889701",
     "status": "completed"
    },
    "tags": []
   },
   "outputs": [
    {
     "data": {
      "text/plain": [
       "{0: (0.0, 2.4999), 1: (0.0, 153.6213), 2: (0.0, 30.988)}"
      ]
     },
     "execution_count": 14,
     "metadata": {},
     "output_type": "execute_result"
    }
   ],
   "source": [
    "\"\"\"\n",
    "mins = {'tracker': [], 'ecal': [], 'hcal': []}\n",
    "maxs = {'tracker': [], 'ecal': [], 'hcal': []}\n",
    "\n",
    "for data in train_dataloader:\n",
    "    tracker = data[:, 0]\n",
    "    ecal = data[:, 1]\n",
    "    hcal = data[:, 2]\n",
    "    \n",
    "    mins['tracker'].append(tracker.min())\n",
    "    mins['ecal'].append(ecal.min())\n",
    "    mins['hcal'].append(hcal.min())\n",
    "    \n",
    "    maxs['tracker'].append(tracker.max())\n",
    "    maxs['ecal'].append(ecal.max())\n",
    "    maxs['hcal'].append(hcal.max())\n",
    "\n",
    "# (min, max)\n",
    "tracker_scaler = (min(mins['tracker']), max(maxs['tracker']))\n",
    "ecal_scaler = (min(mins['ecal']), max(maxs['ecal']))\n",
    "hcal_scaler = (min(mins['hcal']), max(maxs['hcal']))\n",
    "\"\"\"\n",
    "\n",
    "# this code takes a while to run, so i'm hard coding the results\n",
    "tracker_scaler = (0.0, 2.4999)\n",
    "ecal_scaler = (0.0, 153.6213)\n",
    "hcal_scaler = (0.0, 30.9880)\n",
    "\n",
    "# organizing by channel\n",
    "data_scale = {0: tracker_scaler, 1: ecal_scaler, 2: hcal_scaler}\n",
    "data_scale"
   ]
  },
  {
   "cell_type": "markdown",
   "id": "85039942",
   "metadata": {
    "papermill": {
     "duration": 0.04889,
     "end_time": "2022-04-18T16:28:28.047106",
     "exception": false,
     "start_time": "2022-04-18T16:28:27.998216",
     "status": "completed"
    },
    "tags": []
   },
   "source": [
    "This allows us to rescale the data into one of these ranges using:\n",
    "\n",
    "$x_{std} = \\frac{x - x_{min}}{x_{max} - x_{min}} \\rightarrow x_{scaled} = x_{std} \\cdot (n_{max} - n_{min}) + n_{min}$\n",
    "\n",
    "Where $n_{min}$ represents the new minimum value and $n_{max}$ represents the new maximum value. In our case, we'll set it to $n_{min} = 0$ and $n_{max} = 1$."
   ]
  },
  {
   "cell_type": "code",
   "execution_count": 15,
   "id": "e29a9403",
   "metadata": {
    "execution": {
     "iopub.execute_input": "2022-04-18T16:28:28.152934Z",
     "iopub.status.busy": "2022-04-18T16:28:28.151978Z",
     "iopub.status.idle": "2022-04-18T16:28:28.153822Z",
     "shell.execute_reply": "2022-04-18T16:28:28.154257Z",
     "shell.execute_reply.started": "2022-04-18T01:53:44.028691Z"
    },
    "papermill": {
     "duration": 0.057984,
     "end_time": "2022-04-18T16:28:28.154396",
     "exception": false,
     "start_time": "2022-04-18T16:28:28.096412",
     "status": "completed"
    },
    "tags": []
   },
   "outputs": [],
   "source": [
    "def min_max_scaler(data, data_scale, new_scale=(0,1)):\n",
    "    new_min, new_max = new_scale\n",
    "    data = data.clone()\n",
    "    \n",
    "    # iterate through each channel, scaling according to its (min, max)\n",
    "    for channel in data_scale:\n",
    "        data_min, data_max = data_scale[channel]\n",
    "\n",
    "        channel_data = data[:, channel]\n",
    "\n",
    "        data_std = (channel_data - data_min) / (data_max - data_min)\n",
    "        data_scaled = data_std * (new_max - new_min) + new_min\n",
    "\n",
    "        data[:, channel] = data_scaled\n",
    "    \n",
    "    return data"
   ]
  },
  {
   "cell_type": "markdown",
   "id": "031ba391",
   "metadata": {
    "papermill": {
     "duration": 0.049846,
     "end_time": "2022-04-18T16:28:28.253702",
     "exception": false,
     "start_time": "2022-04-18T16:28:28.203856",
     "status": "completed"
    },
    "tags": []
   },
   "source": [
    "I'm going to be using it during the training and evaluation loop whenever we're load in new data. This could be made into a transform to be used when creating our dataset but due to the way I'm currently splitting the data (after creating a dataset) I'd need to colect the minimum and maximum value statistics on all data. This would cause a ton of *data leakage*, since the values we get would also be computed using the val and test data."
   ]
  },
  {
   "cell_type": "markdown",
   "id": "c6c9138a",
   "metadata": {
    "papermill": {
     "duration": 0.049553,
     "end_time": "2022-04-18T16:28:28.352718",
     "exception": false,
     "start_time": "2022-04-18T16:28:28.303165",
     "status": "completed"
    },
    "tags": []
   },
   "source": [
    "# Creating the diffusion model"
   ]
  },
  {
   "cell_type": "markdown",
   "id": "ffcfd87c",
   "metadata": {
    "papermill": {
     "duration": 0.048657,
     "end_time": "2022-04-18T16:28:28.450689",
     "exception": false,
     "start_time": "2022-04-18T16:28:28.402032",
     "status": "completed"
    },
    "tags": []
   },
   "source": [
    "Diffusion models are a kind of generative model that work by defining a Markov chain of diffusion steps that gradually add random noise (usually Gaussian) to the input. The model then learns to reverse the diffusion process in order to generate new data from noise.\n",
    "\n",
    "I'm going to be basing my model off of the [Denoising Diffusion Probabilistic Models paper](https://arxiv.org/abs/2006.11239) and the excellent [PyTorch implementation of the paper available at labml.ai](https://nn.labml.ai/diffusion/ddpm/). As such, I'm gonna be employing a U-Net backbone with self-attention."
   ]
  },
  {
   "cell_type": "markdown",
   "id": "ca293eca",
   "metadata": {
    "papermill": {
     "duration": 0.049091,
     "end_time": "2022-04-18T16:28:28.549071",
     "exception": false,
     "start_time": "2022-04-18T16:28:28.499980",
     "status": "completed"
    },
    "tags": []
   },
   "source": [
    "## U-Net with attention"
   ]
  },
  {
   "cell_type": "markdown",
   "id": "df8ca01c",
   "metadata": {
    "papermill": {
     "duration": 0.048965,
     "end_time": "2022-04-18T16:28:28.647406",
     "exception": false,
     "start_time": "2022-04-18T16:28:28.598441",
     "status": "completed"
    },
    "tags": []
   },
   "source": [
    "This attention-based U-net model is what we'll be using to predict the noise in our diffusion model. The U-Net architecture was created and is commonly used in image segmentation tasks, where we want to predict the class of each pixel in an image. This is done by gradually lowering the resolution of the image and then increasing it again, with pass-through connections at each resolution scale.\n",
    "\n",
    "I'm also going to be making the VAE receive as input an 1 channel image. This is because we want to reconstruct Tracker, ECAL and HCAL images, and each are a channel in our data. So this way we can basically consider that each of the channels is a different class"
   ]
  },
  {
   "cell_type": "markdown",
   "id": "7d935911",
   "metadata": {
    "papermill": {
     "duration": 0.048824,
     "end_time": "2022-04-18T16:28:28.745333",
     "exception": false,
     "start_time": "2022-04-18T16:28:28.696509",
     "status": "completed"
    },
    "tags": []
   },
   "source": [
    "### Helper classes"
   ]
  },
  {
   "cell_type": "markdown",
   "id": "b76cf468",
   "metadata": {
    "papermill": {
     "duration": 0.049545,
     "end_time": "2022-04-18T16:28:28.844174",
     "exception": false,
     "start_time": "2022-04-18T16:28:28.794629",
     "status": "completed"
    },
    "tags": []
   },
   "source": [
    "We'll first define some helper classes: a Swish activation function, a \"time\" embedding (for sinusoidal positional embeddings, as present in the transformer architecture) a residual block (similar to the ones used in ResNet architectures) and an attention block (similar to transformer's multi-head attention):"
   ]
  },
  {
   "cell_type": "code",
   "execution_count": 16,
   "id": "56b74358",
   "metadata": {
    "execution": {
     "iopub.execute_input": "2022-04-18T16:28:28.965591Z",
     "iopub.status.busy": "2022-04-18T16:28:28.964727Z",
     "iopub.status.idle": "2022-04-18T16:28:28.966711Z",
     "shell.execute_reply": "2022-04-18T16:28:28.967111Z",
     "shell.execute_reply.started": "2022-04-18T01:53:44.0396Z"
    },
    "papermill": {
     "duration": 0.073709,
     "end_time": "2022-04-18T16:28:28.967248",
     "exception": false,
     "start_time": "2022-04-18T16:28:28.893539",
     "status": "completed"
    },
    "tags": []
   },
   "outputs": [],
   "source": [
    "class Swish(nn.Module):\n",
    "    def forward(self, x):\n",
    "        return x * torch.sigmoid(x)\n",
    "    \n",
    "class TimeEmbedding(nn.Module):\n",
    "    def __init__(self, n_channels):\n",
    "        super().__init__()\n",
    "        \n",
    "        self.n_channels = n_channels # number of channels in embedding\n",
    "        \n",
    "        self.lin1 = nn.Linear(self.n_channels // 4, self.n_channels)\n",
    "        self.act = Swish()\n",
    "        self.lin2 = nn.Linear(self.n_channels, self.n_channels)\n",
    "\n",
    "    def forward(self, t: torch.Tensor):\n",
    "        half_dim = self.n_channels // 8\n",
    "        emb = math.log(10_000) / (half_dim - 1)\n",
    "        emb = torch.exp(torch.arange(half_dim, device=t.device) * -emb)\n",
    "        emb = t[:, None] * emb[None, :]\n",
    "        emb = torch.cat((emb.sin(), emb.cos()), dim=1)\n",
    "\n",
    "        emb = self.act(self.lin1(emb))\n",
    "        emb = self.lin2(emb)\n",
    "\n",
    "        return emb\n",
    "    \n",
    "class ResidualBlock(nn.Module):\n",
    "    def __init__(self, in_channels, out_channels, time_channels, n_groups=32):\n",
    "        super().__init__()\n",
    "        self.norm1 = nn.GroupNorm(n_groups, in_channels)\n",
    "        self.act1 = Swish()\n",
    "        self.conv1 = nn.Conv2d(in_channels, out_channels, kernel_size=(3, 3), padding=(1, 1))\n",
    "\n",
    "        self.norm2 = nn.GroupNorm(n_groups, out_channels)\n",
    "        self.act2 = Swish()\n",
    "        self.conv2 = nn.Conv2d(out_channels, out_channels, kernel_size=(3, 3), padding=(1, 1))\n",
    "\n",
    "        if in_channels != out_channels:\n",
    "            self.shortcut = nn.Conv2d(in_channels, out_channels, kernel_size=(1, 1))\n",
    "        else:\n",
    "            self.shortcut = nn.Identity()\n",
    "\n",
    "        self.time_emb = nn.Linear(time_channels, out_channels)\n",
    "\n",
    "    def forward(self, x, t):\n",
    "        h = self.conv1(self.act1(self.norm1(x)))\n",
    "        h += self.time_emb(t)[:, :, None, None]\n",
    "        h = self.conv2(self.act2(self.norm2(h)))\n",
    "\n",
    "        return h + self.shortcut(x)\n",
    "\n",
    "class AttentionBlock(nn.Module):\n",
    "    def __init__(self, n_channels, n_heads=1, d_k=None, n_groups=32):\n",
    "        super().__init__()\n",
    "\n",
    "        if d_k is None:\n",
    "            d_k = n_channels\n",
    "            \n",
    "        self.norm = nn.GroupNorm(n_groups, n_channels)\n",
    "        self.projection = nn.Linear(n_channels, n_heads * d_k * 3)\n",
    "        self.output = nn.Linear(n_heads * d_k, n_channels)\n",
    "        self.scale = d_k ** -0.5\n",
    "        \n",
    "        self.n_heads = n_heads\n",
    "        self.d_k = d_k\n",
    "\n",
    "    def forward(self, x, t=None):\n",
    "        _ = t\n",
    "        \n",
    "        batch_size, n_channels, height, width = x.shape\n",
    "        x = x.view(batch_size, n_channels, -1).permute(0, 2, 1)\n",
    "        qkv = self.projection(x).view(batch_size, -1, self.n_heads, 3 * self.d_k)\n",
    "        q, k, v = torch.chunk(qkv, 3, dim=-1)\n",
    "        attn = torch.einsum('bihd,bjhd->bijh', q, k) * self.scale\n",
    "        attn = attn.softmax(dim=1)\n",
    "        res = torch.einsum('bijh,bjhd->bihd', attn, v)\n",
    "        res = res.view(batch_size, -1, self.n_heads * self.d_k)\n",
    "        res = self.output(res)\n",
    "\n",
    "        res += x\n",
    "        res = res.permute(0, 2, 1).view(batch_size, n_channels, height, width)\n",
    "\n",
    "        return res"
   ]
  },
  {
   "cell_type": "markdown",
   "id": "cb1b59bd",
   "metadata": {
    "papermill": {
     "duration": 0.049147,
     "end_time": "2022-04-18T16:28:29.067799",
     "exception": false,
     "start_time": "2022-04-18T16:28:29.018652",
     "status": "completed"
    },
    "tags": []
   },
   "source": [
    "### U-Net modules"
   ]
  },
  {
   "cell_type": "markdown",
   "id": "23c9f5eb",
   "metadata": {
    "papermill": {
     "duration": 0.05232,
     "end_time": "2022-04-18T16:28:29.169575",
     "exception": false,
     "start_time": "2022-04-18T16:28:29.117255",
     "status": "completed"
    },
    "tags": []
   },
   "source": [
    "Now we'll be creating some \"U-Net specific\" modules related to the changes in resolution:"
   ]
  },
  {
   "cell_type": "code",
   "execution_count": 17,
   "id": "5661dba6",
   "metadata": {
    "execution": {
     "iopub.execute_input": "2022-04-18T16:28:29.284055Z",
     "iopub.status.busy": "2022-04-18T16:28:29.283347Z",
     "iopub.status.idle": "2022-04-18T16:28:29.286450Z",
     "shell.execute_reply": "2022-04-18T16:28:29.285915Z",
     "shell.execute_reply.started": "2022-04-18T01:53:44.064498Z"
    },
    "papermill": {
     "duration": 0.066148,
     "end_time": "2022-04-18T16:28:29.286564",
     "exception": false,
     "start_time": "2022-04-18T16:28:29.220416",
     "status": "completed"
    },
    "tags": []
   },
   "outputs": [],
   "source": [
    "class DownBlock(nn.Module):\n",
    "    def __init__(self, in_channels, out_channels, time_channels, has_attn):\n",
    "        super().__init__()\n",
    "        \n",
    "        self.res = ResidualBlock(in_channels, out_channels, time_channels)\n",
    "        \n",
    "        if has_attn:\n",
    "            self.attn = AttentionBlock(out_channels)\n",
    "        else:\n",
    "            self.attn = nn.Identity()\n",
    "\n",
    "    def forward(self, x, t):\n",
    "        x = self.res(x, t)\n",
    "        x = self.attn(x)\n",
    "        return x\n",
    "\n",
    "\n",
    "class UpBlock(nn.Module):\n",
    "    def __init__(self, in_channels, out_channels, time_channels, has_attn):\n",
    "        super().__init__()\n",
    "        \n",
    "        self.res = ResidualBlock(in_channels + out_channels, out_channels, time_channels)\n",
    "        \n",
    "        if has_attn:\n",
    "            self.attn = AttentionBlock(out_channels)\n",
    "        else:\n",
    "            self.attn = nn.Identity()\n",
    "\n",
    "    def forward(self, x, t):\n",
    "        x = self.res(x, t)\n",
    "        x = self.attn(x)\n",
    "        return x\n",
    "\n",
    "\n",
    "class MiddleBlock(nn.Module):\n",
    "    def __init__(self, n_channels, time_channels):\n",
    "        super().__init__()\n",
    "        \n",
    "        self.res1 = ResidualBlock(n_channels, n_channels, time_channels)\n",
    "        self.attn = AttentionBlock(n_channels)\n",
    "        self.res2 = ResidualBlock(n_channels, n_channels, time_channels)\n",
    "\n",
    "    def forward(self, x, t):\n",
    "        x = self.res1(x, t)\n",
    "        x = self.attn(x)\n",
    "        x = self.res2(x, t)\n",
    "        return x\n",
    "\n",
    "\n",
    "class Upsample(nn.Module):\n",
    "    def __init__(self, n_channels):\n",
    "        super().__init__()\n",
    "        \n",
    "        self.conv = nn.ConvTranspose2d(n_channels, n_channels, (4, 4), (2, 2), (1, 1))\n",
    "\n",
    "    def forward(self, x, t):\n",
    "        _ = t\n",
    "        return self.conv(x)\n",
    "\n",
    "\n",
    "class Downsample(nn.Module):\n",
    "    def __init__(self, n_channels):\n",
    "        super().__init__()\n",
    "        \n",
    "        self.conv = nn.Conv2d(n_channels, n_channels, (3, 3), (2, 2), (1, 1))\n",
    "\n",
    "    def forward(self, x, t):\n",
    "        _ = t\n",
    "        return self.conv(x)"
   ]
  },
  {
   "cell_type": "markdown",
   "id": "4cfe651b",
   "metadata": {
    "papermill": {
     "duration": 0.048943,
     "end_time": "2022-04-18T16:28:29.385216",
     "exception": false,
     "start_time": "2022-04-18T16:28:29.336273",
     "status": "completed"
    },
    "tags": []
   },
   "source": [
    "### U-Net"
   ]
  },
  {
   "cell_type": "markdown",
   "id": "630803bc",
   "metadata": {
    "papermill": {
     "duration": 0.049266,
     "end_time": "2022-04-18T16:28:29.483392",
     "exception": false,
     "start_time": "2022-04-18T16:28:29.434126",
     "status": "completed"
    },
    "tags": []
   },
   "source": [
    "Finally, here's the U-Net implementation. We have it so that here:\n",
    "\n",
    "- `image_channels` is the number of channels in the image.\n",
    "- `n_channels` is number of channels in the initial feature map.\n",
    "- `ch_mults` is the list of channels at each resolution. The number of channels is `ch_mults[i] * n_channels`\n",
    "- `is_attn` is a list of booleans that indicate whether to use attention or not at each resolution.\n",
    "- `n_blocks` is the number of `UpDownBlocks` at each resolution.\n"
   ]
  },
  {
   "cell_type": "code",
   "execution_count": 18,
   "id": "12c50d5c",
   "metadata": {
    "execution": {
     "iopub.execute_input": "2022-04-18T16:28:29.598604Z",
     "iopub.status.busy": "2022-04-18T16:28:29.597722Z",
     "iopub.status.idle": "2022-04-18T16:28:29.599495Z",
     "shell.execute_reply": "2022-04-18T16:28:29.599977Z",
     "shell.execute_reply.started": "2022-04-18T01:59:00.718772Z"
    },
    "papermill": {
     "duration": 0.067404,
     "end_time": "2022-04-18T16:28:29.600102",
     "exception": false,
     "start_time": "2022-04-18T16:28:29.532698",
     "status": "completed"
    },
    "tags": []
   },
   "outputs": [],
   "source": [
    "class UNet(nn.Module):\n",
    "    def __init__(self, image_channels=1, n_channels=64, ch_mults=(1, 2, 2, 4),\n",
    "                 is_attn=(False, False, True, True), n_blocks=2):\n",
    "        super().__init__()\n",
    "\n",
    "        # number of resolutions\n",
    "        n_resolutions = len(ch_mults)\n",
    "\n",
    "        # project image into feature map\n",
    "        self.image_proj = nn.Conv2d(image_channels, n_channels, kernel_size=(3, 3), padding=(1, 1))\n",
    "\n",
    "        # time embedding layer\n",
    "        self.time_emb = TimeEmbedding(n_channels * 4)\n",
    "\n",
    "        # FIRST PART OF U-NET: decreasing resolution\n",
    "        down = []\n",
    "        out_channels = in_channels = n_channels\n",
    "        \n",
    "        for i in range(n_resolutions):\n",
    "            # output channels at this resolution\n",
    "            out_channels = in_channels * ch_mults[i]\n",
    "            \n",
    "            for _ in range(n_blocks):\n",
    "                down.append(DownBlock(in_channels, out_channels, n_channels * 4, is_attn[i]))\n",
    "                in_channels = out_channels\n",
    "            \n",
    "            # downscale at all resolutions except the last\n",
    "            if i < n_resolutions - 1:\n",
    "                down.append(Downsample(in_channels))\n",
    "\n",
    "        # combine the set of modules\n",
    "        self.down = nn.ModuleList(down)\n",
    "\n",
    "        # middle block\n",
    "        self.middle = MiddleBlock(out_channels, n_channels * 4, )\n",
    "\n",
    "        # SECOND PART OF U-NET: increasing resolution\n",
    "        up = []\n",
    "        in_channels = out_channels\n",
    "        \n",
    "        for i in reversed(range(n_resolutions)):\n",
    "            out_channels = in_channels\n",
    "            \n",
    "            for _ in range(n_blocks):\n",
    "                up.append(UpBlock(in_channels, out_channels, n_channels * 4, is_attn[i]))\n",
    "                \n",
    "            # reduce the number of channels\n",
    "            out_channels = in_channels // ch_mults[i]\n",
    "            up.append(UpBlock(in_channels, out_channels, n_channels * 4, is_attn[i]))\n",
    "            in_channels = out_channels\n",
    "            \n",
    "            # upscale at all resolutions except last\n",
    "            if i > 0:\n",
    "                up.append(Upsample(in_channels))\n",
    "\n",
    "        self.up = nn.ModuleList(up)\n",
    "\n",
    "        # final normalization and convolution layer\n",
    "        self.norm = nn.GroupNorm(8, n_channels)\n",
    "        self.act = Swish()\n",
    "        self.final = nn.Conv2d(in_channels, image_channels, kernel_size=(3, 3), padding=(1, 1))\n",
    "\n",
    "    def forward(self, x, t):\n",
    "        # time embeddings\n",
    "        t = self.time_emb(t)\n",
    "\n",
    "        # image projection\n",
    "        x = self.image_proj(x)\n",
    "\n",
    "        # `h` stores outputs at each resolution for skip connection\n",
    "        h = [x]\n",
    "        \n",
    "        # first half of U-Net\n",
    "        for m in self.down:\n",
    "            x = m(x, t)\n",
    "            h.append(x)\n",
    "\n",
    "        # middle\n",
    "        x = self.middle(x, t)\n",
    "\n",
    "        # second half of U-Net\n",
    "        for m in self.up:\n",
    "            if isinstance(m, Upsample):\n",
    "                x = m(x, t)\n",
    "                \n",
    "            else:\n",
    "                # get skip connection from first half of U-Net and concatenate\n",
    "                s = h.pop()\n",
    "                x = torch.cat((x, s), dim=1)\n",
    "                x = m(x, t)\n",
    "\n",
    "        # final normalization and convolution\n",
    "        return self.final(self.act(self.norm(x)))"
   ]
  },
  {
   "cell_type": "markdown",
   "id": "9d21f282",
   "metadata": {
    "papermill": {
     "duration": 0.049205,
     "end_time": "2022-04-18T16:28:29.698871",
     "exception": false,
     "start_time": "2022-04-18T16:28:29.649666",
     "status": "completed"
    },
    "tags": []
   },
   "source": [
    "## Diffusion model"
   ]
  },
  {
   "cell_type": "markdown",
   "id": "95076faf",
   "metadata": {
    "papermill": {
     "duration": 0.049824,
     "end_time": "2022-04-18T16:28:29.798191",
     "exception": false,
     "start_time": "2022-04-18T16:28:29.748367",
     "status": "completed"
    },
    "tags": []
   },
   "source": [
    "Now that we have the model the architecture that will reconstruct our images, we can begin to implement the diffusion model that'll be used to reconstruct the events. We'll need to implement:\n",
    "\n",
    "1. **The forward process**: it adds noise to the input data $x_0 \\sim q(x_0)$ in $T$ steps. This produces a sequence of noisy samples $x_1, \\cdots, x_T$, where the step sizes are controlled by $\\{\\beta_t \\in (0,1)\\}_{t=1}^t$, such that:\n",
    "\n",
    "    $$q(x_t | x_{t-1}) = \\mathcal{N}\\big(x_t; \\sqrt{1-  \\beta_t} x_{t-1}, \\beta_t \\mathbf{I}\\big); \\; q(x_{1:T} | x_0) = \\prod_{t = 1}^{T} q(x_t | x_{t-1})$$\n",
    "    \n",
    "    As $t$ increases, $x_0$ gradually loses its features, becoming equivalent to an isotropic Gaussian distribution ad infinitum.\n",
    "\n",
    "    We can sample $x_t$ at an arbitrary step $t$, where $\\alpha_t = 1 - \\beta_t$ and $\\bar\\alpha_t = \\prod_{i=1}^T \\alpha_i$ with \n",
    "    \n",
    "    $$q(x_t|x_0) = \\mathcal{N} \\Big(x_t; \\sqrt{\\bar\\alpha_t} x_0, (1-\\bar\\alpha_t) \\mathbf{I} \\Big)$$\n",
    "    \n",
    "2. **The backward process**: it removes noise. If we could reverse the process of adding noise and sample directly $q(x_{t-1} | x_t)$ we would be able to recreate the true data from a Gaussian noise input. However, since we cannot estimate this conditional probability, we need to learn a model $p_\\theta$ that approximates $q(x_{t-1} | x_t)$ starting from $p(x_T) = \\mathcal{N}(x_T; \\mathbf{0}, \\mathbf{I})$, for $T$ steps such that:\n",
    "\n",
    "    $$p_\\theta(x_{t-1} | x_t) = \\mathcal{N}\\big(x_{t-1}; \\mu_\\theta x_t, t), \\Sigma_\\theta (x_t, t) \\big) ; \\; p_\\theta (x_{0:T}) = p_\\theta (x_T) \\prod_{t = 1}^{T} p_\\theta (x_{t-1} | x_t)$$\n",
    "    \n",
    "    Where $\\theta$ are the parameters we learn.\n",
    "    \n",
    "3. **The loss**: in order to do that we use a simplified objective based on Jensen's inequality:\n",
    "\n",
    "    $$L_t(\\theta) = \\mathbb{E}_{t,x_0, \\epsilon} \\Bigg[ \\bigg\\Vert\n",
    "\\epsilon - \\epsilon_\\theta (\\sqrt{\\bar\\alpha_t} x_0 + \\sqrt{1-\\bar\\alpha_t}\\epsilon, t)\n",
    "\\bigg\\Vert^2 \\Bigg]$$\n",
    "    \n",
    "    "
   ]
  },
  {
   "cell_type": "code",
   "execution_count": 19,
   "id": "104777d7",
   "metadata": {
    "execution": {
     "iopub.execute_input": "2022-04-18T16:28:29.911943Z",
     "iopub.status.busy": "2022-04-18T16:28:29.911031Z",
     "iopub.status.idle": "2022-04-18T16:28:29.913335Z",
     "shell.execute_reply": "2022-04-18T16:28:29.913751Z",
     "shell.execute_reply.started": "2022-04-18T01:59:01.197476Z"
    },
    "papermill": {
     "duration": 0.065754,
     "end_time": "2022-04-18T16:28:29.913876",
     "exception": false,
     "start_time": "2022-04-18T16:28:29.848122",
     "status": "completed"
    },
    "tags": []
   },
   "outputs": [],
   "source": [
    "def gather(consts, t):\n",
    "    c = consts.gather(-1, t)\n",
    "    return c.reshape(-1, 1, 1, 1)\n",
    "\n",
    "\n",
    "class Diffusion:\n",
    "    def __init__(self, model, n_steps, device):\n",
    "        super().__init__()\n",
    "        \n",
    "        self.model = model\n",
    "\n",
    "        # make betas linearly\n",
    "        self.beta = torch.linspace(0.0001, 0.02, n_steps).to(device)\n",
    "\n",
    "        self.alpha = 1. - self.beta\n",
    "        self.alpha_bar = torch.cumprod(self.alpha, dim=0)\n",
    "        self.n_steps = n_steps # T\n",
    "        self.sigma_squared = self.beta\n",
    "\n",
    "    def q_xt_x0(self, x0, t):\n",
    "        \"\"\"\n",
    "        get q(x_t|x_0) distribution\n",
    "        \"\"\"\n",
    "        \n",
    "        mean = gather(self.alpha_bar, t) ** 0.5 * x0\n",
    "        var = 1 - gather(self.alpha_bar, t)\n",
    "        return mean, var\n",
    "\n",
    "    def q_sample(self, x0, t, eps=None):\n",
    "        \"\"\"\n",
    "        sample from q(x_t|x_0)\n",
    "        \"\"\"\n",
    "\n",
    "        if eps is None:\n",
    "            eps = torch.randn_like(x0)\n",
    "\n",
    "        mean, var = self.q_xt_x0(x0, t)\n",
    "        return mean + (var ** 0.5) * eps\n",
    "\n",
    "    def p_sample(self, xt, t):\n",
    "        \"\"\"\n",
    "        sample from p_\\theta(x_{t-1}|x_t)\n",
    "        \"\"\"\n",
    "\n",
    "        eps_theta = self.model(xt, t)\n",
    "        alpha_bar = gather(self.alpha_bar, t)\n",
    "        alpha = gather(self.alpha, t)\n",
    "        \n",
    "        eps_coef = (1 - alpha) / (1 - alpha_bar) ** .5\n",
    "        mean = 1 / (alpha ** 0.5) * (xt - eps_coef * eps_theta)\n",
    "        var = gather(self.sigma_squared, t)\n",
    "\n",
    "        eps = torch.randn(xt.shape, device=xt.device)\n",
    "        \n",
    "        return mean + (var ** .5) * eps\n",
    "\n",
    "    def loss(self, x0, noise=None):\n",
    "        batch_size = x0.shape[0]\n",
    "        # get random t for each sample in the batch\n",
    "        t = torch.randint(0, self.n_steps, (batch_size,), device=x0.device, dtype=torch.long)\n",
    "\n",
    "        if noise is None:\n",
    "            noise = torch.randn_like(x0)\n",
    "\n",
    "        # sample x_t for q(x_t|x_0)\n",
    "        xt = self.q_sample(x0, t, eps=noise)\n",
    "        eps_theta = self.model(xt, t)\n",
    "\n",
    "        return F.mse_loss(noise, eps_theta)"
   ]
  },
  {
   "cell_type": "markdown",
   "id": "cd3f18fe",
   "metadata": {
    "papermill": {
     "duration": 0.051813,
     "end_time": "2022-04-18T16:28:30.015416",
     "exception": false,
     "start_time": "2022-04-18T16:28:29.963603",
     "status": "completed"
    },
    "tags": []
   },
   "source": [
    "## Training loop"
   ]
  },
  {
   "cell_type": "markdown",
   "id": "8223f6d9",
   "metadata": {
    "papermill": {
     "duration": 0.049164,
     "end_time": "2022-04-18T16:28:30.114247",
     "exception": false,
     "start_time": "2022-04-18T16:28:30.065083",
     "status": "completed"
    },
    "tags": []
   },
   "source": [
    "I'll first define a function that enables us to see how the diffusion model learns to reconstruct our data as it is being trained (`vmin` and `vmax` are hard-coded based on the values that I found to output good visualizations; notice that the data received by the function is already scaled between 0 and 1):"
   ]
  },
  {
   "cell_type": "code",
   "execution_count": 20,
   "id": "c3cee6b3",
   "metadata": {
    "execution": {
     "iopub.execute_input": "2022-04-18T16:28:30.222437Z",
     "iopub.status.busy": "2022-04-18T16:28:30.221537Z",
     "iopub.status.idle": "2022-04-18T16:28:30.231177Z",
     "shell.execute_reply": "2022-04-18T16:28:30.230752Z",
     "shell.execute_reply.started": "2022-04-18T02:47:33.560585Z"
    },
    "papermill": {
     "duration": 0.0614,
     "end_time": "2022-04-18T16:28:30.231281",
     "exception": false,
     "start_time": "2022-04-18T16:28:30.169881",
     "status": "completed"
    },
    "tags": []
   },
   "outputs": [],
   "source": [
    "def display_images(input_image, output_image, display=1):\n",
    "    titles = ['Tracker', 'ECAL', 'HCAL']\n",
    "    \n",
    "    for d in range(display):\n",
    "        # plot input images\n",
    "        input_image_numpy = input_image.detach().cpu().numpy()\n",
    "        plt.figure(figsize=(18,6))\n",
    "        plt.suptitle('Original images // Reconstructed images', fontsize=20)\n",
    "\n",
    "        # plot 4 images\n",
    "        for i in range(len(titles)):\n",
    "            plt.subplot(1, 3, i+1)\n",
    "            \n",
    "            plt.imshow(input_image_numpy[i+4*d][i], cmap='jet', vmin=0, vmax=0.01)\n",
    "            plt.colorbar()\n",
    "            plt.title(titles[i])\n",
    "            plt.axis(False)\n",
    "\n",
    "        plt.show()\n",
    "                \n",
    "        # plot output images\n",
    "        output_image_numpy = output_image.detach().cpu().numpy()\n",
    "        plt.figure(figsize=(18,6))\n",
    "\n",
    "        # plot 4 images\n",
    "        for i in range(len(titles)):\n",
    "            plt.subplot(1, 3, i+1)\n",
    "            \n",
    "            plt.imshow(output_image_numpy[i+4*d][i], cmap='jet', vmin=0, vmax=0.01)\n",
    "            plt.colorbar()\n",
    "            plt.title(titles[i] + '?')\n",
    "            plt.axis(False)\n",
    "            \n",
    "        plt.show()"
   ]
  },
  {
   "cell_type": "markdown",
   "id": "496752b6",
   "metadata": {
    "papermill": {
     "duration": 0.048564,
     "end_time": "2022-04-18T16:28:30.328533",
     "exception": false,
     "start_time": "2022-04-18T16:28:30.279969",
     "status": "completed"
    },
    "tags": []
   },
   "source": [
    "Now all we need is to define how our model will be trained. For demonstration purposes I'm going to make the hyperparameters fixed. I'll also be using the validation dataset for early stopping if the validation loss stops decreasing."
   ]
  },
  {
   "cell_type": "code",
   "execution_count": 21,
   "id": "78a61cef",
   "metadata": {
    "execution": {
     "iopub.execute_input": "2022-04-18T16:28:30.444703Z",
     "iopub.status.busy": "2022-04-18T16:28:30.443810Z",
     "iopub.status.idle": "2022-04-18T16:28:30.445772Z",
     "shell.execute_reply": "2022-04-18T16:28:30.446136Z",
     "shell.execute_reply.started": "2022-04-18T03:18:00.122807Z"
    },
    "papermill": {
     "duration": 0.068048,
     "end_time": "2022-04-18T16:28:30.446268",
     "exception": false,
     "start_time": "2022-04-18T16:28:30.378220",
     "status": "completed"
    },
    "tags": []
   },
   "outputs": [],
   "source": [
    "def sample(diffusion, dataloader, data_scale, display=0):\n",
    "    # set network to evaluation mode\n",
    "    diffusion.model.eval()\n",
    "    \n",
    "    running_loss = 0.0\n",
    "    reconstructed = []\n",
    "    \n",
    "    with torch.no_grad():\n",
    "        for data in dataloader:\n",
    "            outputs_list = [] # used for displaying reconstructed images\n",
    "\n",
    "            # we'll be iterating over each channel in order to update the VAE weights\n",
    "            # for each Tracker, ECAL, HCAL image inside `data`\n",
    "            for channel in range(3):\n",
    "                #x = torch.randn([n_samples, image_channels, image_size, image_size], device=DEVICE)\n",
    "                x = torch.randn([1, 1, 64, 64], device=DEVICE)\n",
    "\n",
    "                # remove noise for T steps\n",
    "                for t_ in range(diffusion.n_steps):\n",
    "                    t = diffusion.n_steps - t_ - 1\n",
    "                    # sample from p_\\theta (x_{t-1}|x_t)\n",
    "                    x = diffusion.p_sample(x, x.new_full((1,), t, dtype=torch.long))\n",
    "\n",
    "                running_loss += diffusion.loss(x).item()\n",
    "            \n",
    "                outputs_list.append(x)\n",
    "            \n",
    "            # concatenate reconstructed images (Tracker, ECAL, HCAL)\n",
    "            outputs_list = torch.cat(outputs_list, dim=1)\n",
    "            reconstructed.append(outputs_list)\n",
    "            \n",
    "        # get loss over whole dataset\n",
    "        loss = running_loss / len(dataloader)\n",
    "        \n",
    "        # display images\n",
    "        if display:\n",
    "            reconstructed = torch.cat(reconstructed, dim=0)\n",
    "            display_images(data, reconstructed, display)\n",
    "            \n",
    "    return loss\n",
    "    \n",
    "\n",
    "def train(diffusion, train_dataloader, val_dataloader, data_scale, epochs):\n",
    "    # hyperparameters and optimizer\n",
    "    lr = 1e-3\n",
    "    \n",
    "    optimizer = optim.Adam(diffusion.model.parameters(), lr=lr)\n",
    "    scheduler = optim.lr_scheduler.StepLR(optimizer, step_size=5, gamma=0.1)\n",
    "    \n",
    "    # early stopping variables\n",
    "    best_loss = np.inf # ideal loss == 0\n",
    "    patience = 5 # stops training if loss doesn't improve in 5 epochs\n",
    "    bad_epochs = 0\n",
    "    \n",
    "    # metrics\n",
    "    history = {'train_loss': [], 'val_loss': []}\n",
    "    \n",
    "    # train\n",
    "    for epoch in range(epochs):\n",
    "        # set network to training mode\n",
    "        diffusion.model.train()\n",
    "\n",
    "        running_loss = 0.0\n",
    "\n",
    "        for data in train_dataloader:\n",
    "            data = data.to(DEVICE)\n",
    "            data = min_max_scaler(data, data_scale)\n",
    "\n",
    "            # we'll be iterating over each channel in order to update the weights\n",
    "            # for each Tracker, ECAL, HCAL image inside `data`\n",
    "            for channel in data_scale:\n",
    "                # unsqueeze to generate 1 channel axis\n",
    "                data_channel = data[:, channel].unsqueeze(1)\n",
    "                \n",
    "                # zero gradients\n",
    "                optimizer.zero_grad()\n",
    "\n",
    "                # encode/decode ang get loss\n",
    "                loss = diffusion.loss(data_channel)\n",
    "\n",
    "                # backpropagate and update weights\n",
    "                loss.backward()\n",
    "                optimizer.step()\n",
    "\n",
    "                # metrics\n",
    "                running_loss += loss.item()\n",
    "\n",
    "        # get metrics\n",
    "        epoch_loss = running_loss / len(train_dataloader)\n",
    "        history['train_loss'].append(epoch_loss)\n",
    "        \n",
    "        # lr scheduler\n",
    "        scheduler.step()\n",
    "        \n",
    "        # evaluate on validation data\n",
    "        val_epoch_loss = sample(diffusion, val_dataloader, data_scale, display=1)\n",
    "        history['val_loss'].append(val_epoch_loss)\n",
    "\n",
    "        print('[Epoch {}/{}] loss: {:.6f}; val loss: {:.6f};'.format(epoch+1, epochs, epoch_loss, val_epoch_loss))\n",
    "        \n",
    "        # save checkpoint\n",
    "        if val_epoch_loss < best_loss:\n",
    "            torch.save({'unet_weights': diffusion.model.state_dict()}, './model_task3.pt')\n",
    "            best_loss = val_epoch_loss\n",
    "            bad_epochs = 0\n",
    "            \n",
    "        else:\n",
    "            bad_epochs += 1\n",
    "\n",
    "        if bad_epochs >= patience:\n",
    "            print(f\"reached {bad_epochs} bad epochs, stopping training with best val loss of {best_loss}!\")\n",
    "            break\n",
    "\n",
    "    best = torch.load('./model_task2.pt')\n",
    "    diffusion.model.load_state_dict(best['unet_weights'])\n",
    "\n",
    "    return diffusion, history"
   ]
  },
  {
   "cell_type": "markdown",
   "id": "dcacc74c",
   "metadata": {
    "papermill": {
     "duration": 0.04941,
     "end_time": "2022-04-18T16:28:30.544454",
     "exception": false,
     "start_time": "2022-04-18T16:28:30.495044",
     "status": "completed"
    },
    "tags": []
   },
   "source": [
    "## Training the model"
   ]
  },
  {
   "cell_type": "markdown",
   "id": "d6bc743d",
   "metadata": {
    "papermill": {
     "duration": 0.048449,
     "end_time": "2022-04-18T16:28:30.641632",
     "exception": false,
     "start_time": "2022-04-18T16:28:30.593183",
     "status": "completed"
    },
    "tags": []
   },
   "source": [
    "Now we just need to train our diffusion model! I'm training for just 3 epochs because... it takes A LOT of time to train this model. Even while downsizing the images, it requires a lot of computation and after 3 epochs I'm already exceeding the maximum Kaggle runtime. That said, there's probably a lot of bugs and the code isn't at all optimized!"
   ]
  },
  {
   "cell_type": "code",
   "execution_count": 22,
   "id": "ced43210",
   "metadata": {
    "execution": {
     "iopub.execute_input": "2022-04-18T16:28:30.745893Z",
     "iopub.status.busy": "2022-04-18T16:28:30.745297Z",
     "iopub.status.idle": "2022-04-19T03:49:04.399598Z",
     "shell.execute_reply": "2022-04-19T03:49:04.399030Z",
     "shell.execute_reply.started": "2022-04-18T01:59:02.595608Z"
    },
    "papermill": {
     "duration": 40833.708769,
     "end_time": "2022-04-19T03:49:04.399913",
     "exception": true,
     "start_time": "2022-04-18T16:28:30.691144",
     "status": "failed"
    },
    "tags": []
   },
   "outputs": [
    {
     "data": {
      "image/png": "[encoded data removed]",
      "text/plain": [
       "<Figure size 1296x432 with 6 Axes>"
      ]
     },
     "metadata": {
      "needs_background": "light"
     },
     "output_type": "display_data"
    },
    {
     "data": {
      "image/png": "[encoded data removed]",
      "text/plain": [
       "<Figure size 1296x432 with 6 Axes>"
      ]
     },
     "metadata": {
      "needs_background": "light"
     },
     "output_type": "display_data"
    },
    {
     "name": "stdout",
     "output_type": "stream",
     "text": [
      "[Epoch 1/3] loss: nan; val loss: nan;\n"
     ]
    },
    {
     "data": {
      "image/png": "[encoded data removed]",
      "text/plain": [
       "<Figure size 1296x432 with 6 Axes>"
      ]
     },
     "metadata": {
      "needs_background": "light"
     },
     "output_type": "display_data"
    },
    {
     "data": {
      "image/png": "[encoded data removed]",
      "text/plain": [
       "<Figure size 1296x432 with 6 Axes>"
      ]
     },
     "metadata": {
      "needs_background": "light"
     },
     "output_type": "display_data"
    },
    {
     "name": "stdout",
     "output_type": "stream",
     "text": [
      "[Epoch 2/3] loss: nan; val loss: nan;\n"
     ]
    },
    {
     "data": {
      "image/png": "[encoded data removed]",
      "text/plain": [
       "<Figure size 1296x432 with 6 Axes>"
      ]
     },
     "metadata": {
      "needs_background": "light"
     },
     "output_type": "display_data"
    },
    {
     "data": {
      "image/png": "[encoded data removed]",
      "text/plain": [
       "<Figure size 1296x432 with 6 Axes>"
      ]
     },
     "metadata": {
      "needs_background": "light"
     },
     "output_type": "display_data"
    },
    {
     "name": "stdout",
     "output_type": "stream",
     "text": [
      "[Epoch 3/3] loss: nan; val loss: nan;\n"
     ]
    },
    {
     "ename": "FileNotFoundError",
     "evalue": "[Errno 2] No such file or directory: './model_task2.pt'",
     "output_type": "error",
     "traceback": [
      "\u001b[0;31m---------------------------------------------------------------------------\u001b[0m",
      "\u001b[0;31mFileNotFoundError\u001b[0m                         Traceback (most recent call last)",
      "\u001b[0;32m/tmp/ipykernel_22/3285552267.py\u001b[0m in \u001b[0;36m<module>\u001b[0;34m\u001b[0m\n\u001b[1;32m      4\u001b[0m \u001b[0mdiffusion\u001b[0m \u001b[0;34m=\u001b[0m \u001b[0mDiffusion\u001b[0m\u001b[0;34m(\u001b[0m\u001b[0munet\u001b[0m\u001b[0;34m,\u001b[0m \u001b[0;36m1000\u001b[0m\u001b[0;34m,\u001b[0m \u001b[0mDEVICE\u001b[0m\u001b[0;34m)\u001b[0m\u001b[0;34m\u001b[0m\u001b[0;34m\u001b[0m\u001b[0m\n\u001b[1;32m      5\u001b[0m \u001b[0;34m\u001b[0m\u001b[0m\n\u001b[0;32m----> 6\u001b[0;31m \u001b[0mencoder\u001b[0m\u001b[0;34m,\u001b[0m \u001b[0mdecoder\u001b[0m\u001b[0;34m,\u001b[0m \u001b[0mhistory\u001b[0m \u001b[0;34m=\u001b[0m \u001b[0mtrain\u001b[0m\u001b[0;34m(\u001b[0m\u001b[0mdiffusion\u001b[0m\u001b[0;34m,\u001b[0m \u001b[0mtrain_dataloader\u001b[0m\u001b[0;34m,\u001b[0m \u001b[0mval_dataloader\u001b[0m\u001b[0;34m,\u001b[0m \u001b[0mdata_scale\u001b[0m\u001b[0;34m,\u001b[0m \u001b[0mepochs\u001b[0m\u001b[0;34m=\u001b[0m\u001b[0;36m3\u001b[0m\u001b[0;34m)\u001b[0m\u001b[0;34m\u001b[0m\u001b[0;34m\u001b[0m\u001b[0m\n\u001b[0m",
      "\u001b[0;32m/tmp/ipykernel_22/2934080522.py\u001b[0m in \u001b[0;36mtrain\u001b[0;34m(diffusion, train_dataloader, val_dataloader, data_scale, epochs)\u001b[0m\n\u001b[1;32m    112\u001b[0m             \u001b[0;32mbreak\u001b[0m\u001b[0;34m\u001b[0m\u001b[0;34m\u001b[0m\u001b[0m\n\u001b[1;32m    113\u001b[0m \u001b[0;34m\u001b[0m\u001b[0m\n\u001b[0;32m--> 114\u001b[0;31m     \u001b[0mbest\u001b[0m \u001b[0;34m=\u001b[0m \u001b[0mtorch\u001b[0m\u001b[0;34m.\u001b[0m\u001b[0mload\u001b[0m\u001b[0;34m(\u001b[0m\u001b[0;34m'./model_task2.pt'\u001b[0m\u001b[0;34m)\u001b[0m\u001b[0;34m\u001b[0m\u001b[0;34m\u001b[0m\u001b[0m\n\u001b[0m\u001b[1;32m    115\u001b[0m     \u001b[0mdiffusion\u001b[0m\u001b[0;34m.\u001b[0m\u001b[0mmodel\u001b[0m\u001b[0;34m.\u001b[0m\u001b[0mload_state_dict\u001b[0m\u001b[0;34m(\u001b[0m\u001b[0mbest\u001b[0m\u001b[0;34m[\u001b[0m\u001b[0;34m'unet_weights'\u001b[0m\u001b[0;34m]\u001b[0m\u001b[0;34m)\u001b[0m\u001b[0;34m\u001b[0m\u001b[0;34m\u001b[0m\u001b[0m\n\u001b[1;32m    116\u001b[0m \u001b[0;34m\u001b[0m\u001b[0m\n",
      "\u001b[0;32m/opt/conda/lib/python3.7/site-packages/torch/serialization.py\u001b[0m in \u001b[0;36mload\u001b[0;34m(f, map_location, pickle_module, **pickle_load_args)\u001b[0m\n\u001b[1;32m    592\u001b[0m         \u001b[0mpickle_load_args\u001b[0m\u001b[0;34m[\u001b[0m\u001b[0;34m'encoding'\u001b[0m\u001b[0;34m]\u001b[0m \u001b[0;34m=\u001b[0m \u001b[0;34m'utf-8'\u001b[0m\u001b[0;34m\u001b[0m\u001b[0;34m\u001b[0m\u001b[0m\n\u001b[1;32m    593\u001b[0m \u001b[0;34m\u001b[0m\u001b[0m\n\u001b[0;32m--> 594\u001b[0;31m     \u001b[0;32mwith\u001b[0m \u001b[0m_open_file_like\u001b[0m\u001b[0;34m(\u001b[0m\u001b[0mf\u001b[0m\u001b[0;34m,\u001b[0m \u001b[0;34m'rb'\u001b[0m\u001b[0;34m)\u001b[0m \u001b[0;32mas\u001b[0m \u001b[0mopened_file\u001b[0m\u001b[0;34m:\u001b[0m\u001b[0;34m\u001b[0m\u001b[0;34m\u001b[0m\u001b[0m\n\u001b[0m\u001b[1;32m    595\u001b[0m         \u001b[0;32mif\u001b[0m \u001b[0m_is_zipfile\u001b[0m\u001b[0;34m(\u001b[0m\u001b[0mopened_file\u001b[0m\u001b[0;34m)\u001b[0m\u001b[0;34m:\u001b[0m\u001b[0;34m\u001b[0m\u001b[0;34m\u001b[0m\u001b[0m\n\u001b[1;32m    596\u001b[0m             \u001b[0;31m# The zipfile reader is going to advance the current file position.\u001b[0m\u001b[0;34m\u001b[0m\u001b[0;34m\u001b[0m\u001b[0;34m\u001b[0m\u001b[0m\n",
      "\u001b[0;32m/opt/conda/lib/python3.7/site-packages/torch/serialization.py\u001b[0m in \u001b[0;36m_open_file_like\u001b[0;34m(name_or_buffer, mode)\u001b[0m\n\u001b[1;32m    228\u001b[0m \u001b[0;32mdef\u001b[0m \u001b[0m_open_file_like\u001b[0m\u001b[0;34m(\u001b[0m\u001b[0mname_or_buffer\u001b[0m\u001b[0;34m,\u001b[0m \u001b[0mmode\u001b[0m\u001b[0;34m)\u001b[0m\u001b[0;34m:\u001b[0m\u001b[0;34m\u001b[0m\u001b[0;34m\u001b[0m\u001b[0m\n\u001b[1;32m    229\u001b[0m     \u001b[0;32mif\u001b[0m \u001b[0m_is_path\u001b[0m\u001b[0;34m(\u001b[0m\u001b[0mname_or_buffer\u001b[0m\u001b[0;34m)\u001b[0m\u001b[0;34m:\u001b[0m\u001b[0;34m\u001b[0m\u001b[0;34m\u001b[0m\u001b[0m\n\u001b[0;32m--> 230\u001b[0;31m         \u001b[0;32mreturn\u001b[0m \u001b[0m_open_file\u001b[0m\u001b[0;34m(\u001b[0m\u001b[0mname_or_buffer\u001b[0m\u001b[0;34m,\u001b[0m \u001b[0mmode\u001b[0m\u001b[0;34m)\u001b[0m\u001b[0;34m\u001b[0m\u001b[0;34m\u001b[0m\u001b[0m\n\u001b[0m\u001b[1;32m    231\u001b[0m     \u001b[0;32melse\u001b[0m\u001b[0;34m:\u001b[0m\u001b[0;34m\u001b[0m\u001b[0;34m\u001b[0m\u001b[0m\n\u001b[1;32m    232\u001b[0m         \u001b[0;32mif\u001b[0m \u001b[0;34m'w'\u001b[0m \u001b[0;32min\u001b[0m \u001b[0mmode\u001b[0m\u001b[0;34m:\u001b[0m\u001b[0;34m\u001b[0m\u001b[0;34m\u001b[0m\u001b[0m\n",
      "\u001b[0;32m/opt/conda/lib/python3.7/site-packages/torch/serialization.py\u001b[0m in \u001b[0;36m__init__\u001b[0;34m(self, name, mode)\u001b[0m\n\u001b[1;32m    209\u001b[0m \u001b[0;32mclass\u001b[0m \u001b[0m_open_file\u001b[0m\u001b[0;34m(\u001b[0m\u001b[0m_opener\u001b[0m\u001b[0;34m)\u001b[0m\u001b[0;34m:\u001b[0m\u001b[0;34m\u001b[0m\u001b[0;34m\u001b[0m\u001b[0m\n\u001b[1;32m    210\u001b[0m     \u001b[0;32mdef\u001b[0m \u001b[0m__init__\u001b[0m\u001b[0;34m(\u001b[0m\u001b[0mself\u001b[0m\u001b[0;34m,\u001b[0m \u001b[0mname\u001b[0m\u001b[0;34m,\u001b[0m \u001b[0mmode\u001b[0m\u001b[0;34m)\u001b[0m\u001b[0;34m:\u001b[0m\u001b[0;34m\u001b[0m\u001b[0;34m\u001b[0m\u001b[0m\n\u001b[0;32m--> 211\u001b[0;31m         \u001b[0msuper\u001b[0m\u001b[0;34m(\u001b[0m\u001b[0m_open_file\u001b[0m\u001b[0;34m,\u001b[0m \u001b[0mself\u001b[0m\u001b[0;34m)\u001b[0m\u001b[0;34m.\u001b[0m\u001b[0m__init__\u001b[0m\u001b[0;34m(\u001b[0m\u001b[0mopen\u001b[0m\u001b[0;34m(\u001b[0m\u001b[0mname\u001b[0m\u001b[0;34m,\u001b[0m \u001b[0mmode\u001b[0m\u001b[0;34m)\u001b[0m\u001b[0;34m)\u001b[0m\u001b[0;34m\u001b[0m\u001b[0;34m\u001b[0m\u001b[0m\n\u001b[0m\u001b[1;32m    212\u001b[0m \u001b[0;34m\u001b[0m\u001b[0m\n\u001b[1;32m    213\u001b[0m     \u001b[0;32mdef\u001b[0m \u001b[0m__exit__\u001b[0m\u001b[0;34m(\u001b[0m\u001b[0mself\u001b[0m\u001b[0;34m,\u001b[0m \u001b[0;34m*\u001b[0m\u001b[0margs\u001b[0m\u001b[0;34m)\u001b[0m\u001b[0;34m:\u001b[0m\u001b[0;34m\u001b[0m\u001b[0;34m\u001b[0m\u001b[0m\n",
      "\u001b[0;31mFileNotFoundError\u001b[0m: [Errno 2] No such file or directory: './model_task2.pt'"
     ]
    }
   ],
   "source": [
    "unet = UNet()\n",
    "unet = unet.to(DEVICE)\n",
    "\n",
    "diffusion = Diffusion(unet, 1000, DEVICE)\n",
    "\n",
    "encoder, decoder, history = train(diffusion, train_dataloader, val_dataloader, data_scale, epochs=3)"
   ]
  },
  {
   "cell_type": "markdown",
   "id": "87bee1a3",
   "metadata": {
    "papermill": {
     "duration": null,
     "end_time": null,
     "exception": null,
     "start_time": null,
     "status": "pending"
    },
    "tags": []
   },
   "source": [
    "We can also look at the training metrics in order to see how it evolves over time:"
   ]
  },
  {
   "cell_type": "code",
   "execution_count": null,
   "id": "65f7b298",
   "metadata": {
    "execution": {
     "iopub.execute_input": "2022-04-18T02:43:48.752105Z",
     "iopub.status.busy": "2022-04-18T02:43:48.751434Z",
     "iopub.status.idle": "2022-04-18T02:43:49.123085Z",
     "shell.execute_reply": "2022-04-18T02:43:49.122224Z",
     "shell.execute_reply.started": "2022-04-18T02:43:48.752068Z"
    },
    "papermill": {
     "duration": null,
     "end_time": null,
     "exception": null,
     "start_time": null,
     "status": "pending"
    },
    "tags": []
   },
   "outputs": [],
   "source": [
    "fig, axs = plt.subplots(1, 2, figsize=(12,5), dpi=200)\n",
    "\n",
    "plt.style.use('ggplot')\n",
    "\n",
    "epochs = len(history['train_loss'])\n",
    "\n",
    "axs[0].plot(range(1, epochs+1), history['train_loss'])\n",
    "axs[0].set_xlabel('Epochs')\n",
    "axs[0].set_ylabel('Loss')\n",
    "axs[0].set_title('Train loss')\n",
    "\n",
    "# it goes to NaN for some reason\n",
    "#axs[1].plot(range(1, epochs+1), history['val_loss']) \n",
    "#axs[1].set_xlabel('Epochs')\n",
    "#axs[1].set_ylabel('Loss')\n",
    "#axs[1].set_title('Validation loss')\n",
    "\n",
    "plt.show()"
   ]
  },
  {
   "cell_type": "markdown",
   "id": "9587f38f",
   "metadata": {
    "papermill": {
     "duration": null,
     "end_time": null,
     "exception": null,
     "start_time": null,
     "status": "pending"
    },
    "tags": []
   },
   "source": [
    "## Evaluating the model"
   ]
  },
  {
   "cell_type": "markdown",
   "id": "f7ef530c",
   "metadata": {
    "papermill": {
     "duration": null,
     "end_time": null,
     "exception": null,
     "start_time": null,
     "status": "pending"
    },
    "tags": []
   },
   "source": [
    "The loss of the model on the test set and some reconstructions of the test set are given by:"
   ]
  },
  {
   "cell_type": "code",
   "execution_count": null,
   "id": "1e9871cb",
   "metadata": {
    "execution": {
     "iopub.execute_input": "2022-04-18T03:18:03.385238Z",
     "iopub.status.busy": "2022-04-18T03:18:03.384734Z",
     "iopub.status.idle": "2022-04-18T03:20:28.857248Z",
     "shell.execute_reply": "2022-04-18T03:20:28.856471Z",
     "shell.execute_reply.started": "2022-04-18T03:18:03.385197Z"
    },
    "papermill": {
     "duration": null,
     "end_time": null,
     "exception": null,
     "start_time": null,
     "status": "pending"
    },
    "tags": []
   },
   "outputs": [],
   "source": [
    "test_loss = sample(diffusion, test_dataloader, data_scale, display=3)\n",
    "print('LOSS ON GENERATION:', test_loss)"
   ]
  },
  {
   "cell_type": "markdown",
   "id": "cb482ba5",
   "metadata": {
    "papermill": {
     "duration": null,
     "end_time": null,
     "exception": null,
     "start_time": null,
     "status": "pending"
    },
    "tags": []
   },
   "source": [
    "## Conclusion"
   ]
  },
  {
   "cell_type": "markdown",
   "id": "991caaf3",
   "metadata": {
    "papermill": {
     "duration": null,
     "end_time": null,
     "exception": null,
     "start_time": null,
     "status": "pending"
    },
    "tags": []
   },
   "source": [
    "Yeaaah... the code is kinda buggy. There's a lot of work that would still be needed to optimize it. But when the loss goes to NaN, it's neveer a good sign. Due to time constraints related to the submission deadline I wasn't able to work with the code more. But if I had more time the first thing I'd do is \"cross check\" my implementation (and the implementation I'm basing mine off of) with other popular diffusion model implementations. There are quite a lot that seem to be quite thorough with their code and explanation! Notice, for example, that this implementation doesn't employ an Exponential Moving Average (EMA), while the official paper does.\n",
    "\n",
    "Other than that, there's probably some error hiding in some of the functions and classes that is anihilating the learning of the model. So more work would definitely need to be done, but, fortunately, there's a lot that can be done to work through this!"
   ]
  }
 ],
 "metadata": {
  "kernelspec": {
   "display_name": "Python 3",
   "language": "python",
   "name": "python3"
  },
  "language_info": {
   "codemirror_mode": {
    "name": "ipython",
    "version": 3
   },
   "file_extension": ".py",
   "mimetype": "text/x-python",
   "name": "python",
   "nbconvert_exporter": "python",
   "pygments_lexer": "ipython3",
   "version": "3.7.12"
  },
  "papermill": {
   "default_parameters": {},
   "duration": 40852.941352,
   "end_time": "2022-04-19T03:49:06.845904",
   "environment_variables": {},
   "exception": true,
   "input_path": "__notebook__.ipynb",
   "output_path": "__notebook__.ipynb",
   "parameters": {},
   "start_time": "2022-04-18T16:28:13.904552",
   "version": "2.3.3"
  }
 },
 "nbformat": 4,
 "nbformat_minor": 5
}
